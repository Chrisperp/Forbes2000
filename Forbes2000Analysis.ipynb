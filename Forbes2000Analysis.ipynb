{
 "cells": [
  {
   "cell_type": "code",
   "execution_count": 1,
   "metadata": {},
   "outputs": [],
   "source": [
    "import matplotlib.pyplot as plt\n",
    "import seaborn as sns\n",
    "import pandas as pd\n",
    "import statistics as stats\n",
    "import csv\n",
    "import dash\n",
    "import dash_core_components as dcc\n",
    "import dash_html_components as html"
   ]
  },
  {
   "cell_type": "code",
   "execution_count": 2,
   "metadata": {},
   "outputs": [],
   "source": [
    "forbes1 = pd.read_csv(\"forbes1.csv\", header = None)\n",
    "forbes2 = pd.read_csv(\"forbes2.csv\", header = None) "
   ]
  },
  {
   "cell_type": "code",
   "execution_count": 3,
   "metadata": {},
   "outputs": [
    {
     "data": {
      "text/plain": [
       "<bound method DataFrame.drop_duplicates of                                   0        1                             2  \\\n",
       "0                           #1 ICBC    $311B                   Major Banks   \n",
       "1        #2 China Construction Bank  $261.2B                   Major Banks   \n",
       "2                 #3 JPMorgan Chase  $387.7B                   Major Banks   \n",
       "3             #4 Berkshire Hathaway  $491.9B           Investment Services   \n",
       "4     #5 Agricultural Bank of China  $184.1B                Regional Banks   \n",
       "5                #6 Bank of America  $313.5B                   Major Banks   \n",
       "6                    #7 Wells Fargo  $265.3B                   Major Banks   \n",
       "7                          #8 Apple  $926.9B             Computer Hardware   \n",
       "8                  #9 Bank of China  $158.6B                   Major Banks   \n",
       "9       #10 Ping An Insurance Group  $181.4B         Diversified Insurance   \n",
       "10            #11 Royal Dutch Shell  $306.5B          Oil & Gas Operations   \n",
       "11                 #12 Toyota Motor  $200.7B    Auto & Truck Manufacturers   \n",
       "12                   #13 ExxonMobil  $344.1B          Oil & Gas Operations   \n",
       "13          #14 Samsung Electronics  $325.9B                Semiconductors   \n",
       "14                         #15 AT&T  $198.3B   Telecommunications services   \n",
       "15             #16 Volkswagen Group  $101.4B    Auto & Truck Manufacturers   \n",
       "16                #17 HSBC Holdings  $200.3B                   Major Banks   \n",
       "17       #18 Verizon Communications  $200.9B   Telecommunications services   \n",
       "18                  #19 BNP Paribas   $93.6B                   Major Banks   \n",
       "19                  #19 BNP Paribas   $93.6B                   Major Banks   \n",
       "20                    #20 Microsoft  $750.6B        Software & Programming   \n",
       "21                      #21 Chevron  $248.1B          Oil & Gas Operations   \n",
       "22                      #22 Allianz  $100.4B         Diversified Insurance   \n",
       "23                     #23 Alphabet  $766.4B             Computer Services   \n",
       "24                      #24 Walmart  $246.2B               Discount Stores   \n",
       "25                 #25 China Mobile  $192.6B   Telecommunications services   \n",
       "26                        #26 Total    $168B          Oil & Gas Operations   \n",
       "27                      #27 Sinopec  $138.6B          Oil & Gas Operations   \n",
       "28           #28 UnitedHealth Group    $229B           Managed Health Care   \n",
       "29                      #29 Daimler   $85.7B    Auto & Truck Manufacturers   \n",
       "...                             ...      ...                           ...   \n",
       "1997       #1973 Fuyo General Lease    $2.3B              Rental & Leasing   \n",
       "1998          #1973 Signet Jewelers    $2.3B              Specialty Stores   \n",
       "1999      #1973 Southwestern Energy    $2.5B          Oil & Gas Operations   \n",
       "2000       #1976 Group 1 Automotive    $1.4B              Specialty Stores   \n",
       "2001            #1977 Alps Electric    $4.9B                   Electronics   \n",
       "2002                   #1977 F.N.B.    $4.3B                Regional Banks   \n",
       "2003                   #1979 Yamaha    $9.6B         Recreational Products   \n",
       "2004   #1980 Constellation Software   $16.1B                          1995   \n",
       "2005               #1980 FinecoBank    $7.1B                Regional Banks   \n",
       "2006         #1982 LG International    $940M             Trading Companies   \n",
       "2007    #1983 Saudi Investment Bank    $3.4B                Regional Banks   \n",
       "2008        #1983 Thomas Cook Group    $2.8B  Business & Personal Services   \n",
       "2009           #1985 Sinotrans Ltd.    $3.6B                   Air Courier   \n",
       "2010        #1985 Telecom Argentina   $10.2B   Telecommunications services   \n",
       "2011        #1987 Synovus Financial    $6.4B                Regional Banks   \n",
       "2012        #1987 Synovus Financial    $6.4B                Regional Banks   \n",
       "2013                      #1988 HCP   $11.3B                   Real Estate   \n",
       "2014                #1989 Securitas    $5.9B  Business & Personal Services   \n",
       "2015     #1990 Nanjing Iron & Steel    $3.2B                  Iron & Steel   \n",
       "2016     #1990 Nanjing Iron & Steel    $3.2B                  Iron & Steel   \n",
       "2017   #1991 Electricity Generating    $3.8B            Electric Utilities   \n",
       "2018                 #1992 Vingroup   $14.4B                          1993   \n",
       "2019                 #1993 Awa Bank    $1.5B                Regional Banks   \n",
       "2020                     #1993 MSCI   $14.3B  Business & Personal Services   \n",
       "2021                 #1993 Uralkali      $5B         Specialized Chemicals   \n",
       "2022                #1996 Fabege AB    $3.9B         Construction Services   \n",
       "2023          #1996 SEI Investments   $10.2B           Investment Services   \n",
       "2024        #1996 Sumec Corporation    $1.2B                         China   \n",
       "2025  #1999 BioMarin Pharmaceutical   $15.6B                      Biotechs   \n",
       "2026    #1999 China Agri-Industries    $2.2B         Diversified Chemicals   \n",
       "\n",
       "                  3                  4                               5  \\\n",
       "0              1984              China                          Shu Gu   \n",
       "1              1954              China                       Wang Zuji   \n",
       "2              1968      United States                     Jamie Dimon   \n",
       "3              1955      United States                  Warren Buffett   \n",
       "4              1951              China                       Huan Zhao   \n",
       "5              1904      United States                  Brian Moynihan   \n",
       "6              1852      United States                   Timothy Sloan   \n",
       "7              1976      United States                        Tim Cook   \n",
       "8              1912              China                     Chen Siqing   \n",
       "9              1988              China                         Ming Ma   \n",
       "10             1911        Netherlands  Bernardus Margriet van Beurden   \n",
       "11             1937              Japan              Takeshi Uchiyamada   \n",
       "12             1859      United States                    Darren Woods   \n",
       "13             1969        South Korea                    Hyun-Suk Kim   \n",
       "14             1983      United States              Randall Stephenson   \n",
       "15             1937            Germany                   Herbert Diess   \n",
       "16             1865     United Kingdom                      John Flint   \n",
       "17             1995      United States                   Lowell McAdam   \n",
       "18             1848             France            Jean-Laurent Bonnafé   \n",
       "19             1848             France            Jean-Laurent Bonnafé   \n",
       "20             1985      United States                   Satya Nadella   \n",
       "21             1879      United States                   Michael Wirth   \n",
       "22             1890            Germany                     Oliver Bäte   \n",
       "23             2015      United States                   Lawrence Page   \n",
       "24             1962      United States                     C. McMillon   \n",
       "25             1997          Hong Kong                         Yue PhD   \n",
       "26             1924             France                Patrick Pouyanné   \n",
       "27             2000              China                       Dong Zhao   \n",
       "28             1977      United States                  David Wichmann   \n",
       "29             1886            Germany                  Dieter Zetsche   \n",
       "...             ...                ...                             ...   \n",
       "1997           1969              Japan                    Takashi Sato   \n",
       "1998        Bermuda    Virginia Drosos                          29,057   \n",
       "1999           1929      United States                     William Way   \n",
       "2000           1995      United States                 Earl Hesterberg   \n",
       "2001           1948              Japan                Masataka Kataoka   \n",
       "2002           1974      United States           Vincent J. Delie, Jr.   \n",
       "2003           1887              Japan                   Takuya Nakata   \n",
       "2004         Canada       Mark Leonard                          14,335   \n",
       "2005           1999              Italy                 Alessandro Foti   \n",
       "2006           1953        South Korea                     Chi-Ho Song   \n",
       "2007   Saudi Arabia  Musaed Al-Mineefi                           1,625   \n",
       "2008           2007     United Kingdom                Peter Fankhauser   \n",
       "2009           2002              China                    Zhao Huxiang   \n",
       "2010      Argentina     Carlos Moltini                          15,396   \n",
       "2011           1972      United States                 Kessel Stelling   \n",
       "2012           1972      United States                 Kessel Stelling   \n",
       "2013           1985      United States                   Thomas Herzog   \n",
       "2014           1972             Sweden                 Magnus Ahlqvist   \n",
       "2015          China           Yi Huang                          10,717   \n",
       "2016          China           Yi Huang                          10,717   \n",
       "2017           1992           Thailand                   Sommai Phasee   \n",
       "2018        Vietnam       Quang Nguyen                             347   \n",
       "2019           1896              Japan                 Yoshifumi Okada   \n",
       "2020           1998      United States                 Henry Fernandez   \n",
       "2021           1930             Russia                   Dmitry Osipov   \n",
       "2022           1924             Sweden              Christian Hermelin   \n",
       "2023  United States     Alfred West Jr                           3,650   \n",
       "2024         Ji Cai             18,056                          $11.3B   \n",
       "2025           1997      United States           Jean-Jacques Bienaimé   \n",
       "2026           2006          Hong Kong                       Qing Wang   \n",
       "\n",
       "              6  \n",
       "0       453,048  \n",
       "1       352,621  \n",
       "2       252,539  \n",
       "3       377,000  \n",
       "4       487,307  \n",
       "5       209,000  \n",
       "6       262,700  \n",
       "7       123,000  \n",
       "8       311,133  \n",
       "9       342,550  \n",
       "10       84,000  \n",
       "11      136,000  \n",
       "12       71,200  \n",
       "13       20,000  \n",
       "14      252,000  \n",
       "15      642,292  \n",
       "16      228,687  \n",
       "17      155,400  \n",
       "18      196,128  \n",
       "19      196,128  \n",
       "20      124,000  \n",
       "21       51,900  \n",
       "22      140,553  \n",
       "23       80,110  \n",
       "24    2,300,000  \n",
       "25      464,656  \n",
       "26       98,277  \n",
       "27      446,225  \n",
       "28      260,000  \n",
       "29      289,321  \n",
       "...         ...  \n",
       "1997      1,504  \n",
       "1998      $6.3B  \n",
       "1999      1,575  \n",
       "2000     14,108  \n",
       "2001      $7.7B  \n",
       "2002      4,215  \n",
       "2003      $3.9B  \n",
       "2004      $2.6B  \n",
       "2005      1,115  \n",
       "2006        689  \n",
       "2007      $1.2B  \n",
       "2008     21,788  \n",
       "2009     40,053  \n",
       "2010      $3.9B  \n",
       "2011      4,541  \n",
       "2012      4,541  \n",
       "2013        190  \n",
       "2014    345,525  \n",
       "2015      $5.9B  \n",
       "2016      $5.9B  \n",
       "2017      $972M  \n",
       "2018      $4.6B  \n",
       "2019      1,427  \n",
       "2020      3,038  \n",
       "2021     20,500  \n",
       "2022        149  \n",
       "2023      $1.6B  \n",
       "2024    Nanjing  \n",
       "2025      2,581  \n",
       "2026     18,307  \n",
       "\n",
       "[2027 rows x 7 columns]>"
      ]
     },
     "execution_count": 3,
     "metadata": {},
     "output_type": "execute_result"
    }
   ],
   "source": [
    "forbes2.drop_duplicates"
   ]
  },
  {
   "cell_type": "code",
   "execution_count": 4,
   "metadata": {},
   "outputs": [],
   "source": [
    "forbes2.columns = ['CompRank', 'Market Capitalization', 'Industry', 'Founded', 'Country', 'Chairman', 'Employees']"
   ]
  },
  {
   "cell_type": "code",
   "execution_count": 5,
   "metadata": {},
   "outputs": [],
   "source": [
    "forbes1.columns = ['Company', 'Country', 'Sales', 'Profits', 'Assets', 'Market Value']"
   ]
  },
  {
   "cell_type": "code",
   "execution_count": 6,
   "metadata": {},
   "outputs": [],
   "source": [
    "forbes2[[\"Rank\", \"Name\"]] = forbes2['CompRank'].str.split(n = 1, expand = True)"
   ]
  },
  {
   "cell_type": "code",
   "execution_count": 7,
   "metadata": {},
   "outputs": [],
   "source": [
    "forbes2 = forbes2.drop(['CompRank'], axis = 1)"
   ]
  },
  {
   "cell_type": "code",
   "execution_count": 8,
   "metadata": {},
   "outputs": [],
   "source": [
    "forbes2.columns = ['Market Value', 'Industry', 'Founded', 'Country', 'Chairman', 'Employees', 'Rank', 'Company']"
   ]
  },
  {
   "cell_type": "code",
   "execution_count": 9,
   "metadata": {},
   "outputs": [],
   "source": [
    "forbes = forbes2.merge(forbes1, on = 'Company')"
   ]
  },
  {
   "cell_type": "code",
   "execution_count": 10,
   "metadata": {},
   "outputs": [],
   "source": [
    "forbes = forbes.drop(\"Market Value_x\", axis = 1)"
   ]
  },
  {
   "cell_type": "code",
   "execution_count": 11,
   "metadata": {},
   "outputs": [],
   "source": [
    "forbes = forbes.drop(\"Country_x\", axis = 1)"
   ]
  },
  {
   "cell_type": "code",
   "execution_count": 12,
   "metadata": {},
   "outputs": [],
   "source": [
    "cols = forbes.columns.tolist()\n",
    "cols = ['Rank', 'Company', 'Country_y', 'Industry', 'Assets', 'Sales', 'Profits', 'Market Value_y', 'Employees', 'Founded', 'Chairman']"
   ]
  },
  {
   "cell_type": "code",
   "execution_count": 13,
   "metadata": {},
   "outputs": [],
   "source": [
    "forbes = forbes[cols]"
   ]
  },
  {
   "cell_type": "code",
   "execution_count": 14,
   "metadata": {},
   "outputs": [],
   "source": [
    "forbes = forbes.rename(columns = {'Country_y': 'Country', 'Market Value_y': 'Market Capitalization'})"
   ]
  },
  {
   "cell_type": "code",
   "execution_count": 15,
   "metadata": {},
   "outputs": [],
   "source": [
    "indexNames = forbes[forbes['Industry'] == '1973'].index\n",
    "forbes.drop(indexNames , inplace=True)"
   ]
  },
  {
   "cell_type": "code",
   "execution_count": 16,
   "metadata": {},
   "outputs": [],
   "source": [
    "indexNames = forbes[forbes['Industry'] == '1984'].index\n",
    "forbes.drop(indexNames , inplace=True)"
   ]
  },
  {
   "cell_type": "code",
   "execution_count": 17,
   "metadata": {},
   "outputs": [],
   "source": [
    "indexNames = forbes[forbes['Industry'] == '1986'].index\n",
    "forbes.drop(indexNames , inplace=True)"
   ]
  },
  {
   "cell_type": "code",
   "execution_count": 18,
   "metadata": {},
   "outputs": [],
   "source": [
    "indexNames = forbes[forbes['Industry'] == '1987'].index\n",
    "forbes.drop(indexNames , inplace=True)"
   ]
  },
  {
   "cell_type": "code",
   "execution_count": 19,
   "metadata": {},
   "outputs": [],
   "source": [
    "indexNames = forbes[forbes['Industry'] == '1988'].index\n",
    "forbes.drop(indexNames , inplace=True)"
   ]
  },
  {
   "cell_type": "code",
   "execution_count": 20,
   "metadata": {},
   "outputs": [],
   "source": [
    "indexNames = forbes[forbes['Industry'] == '1993'].index\n",
    "forbes.drop(indexNames , inplace=True)"
   ]
  },
  {
   "cell_type": "code",
   "execution_count": 21,
   "metadata": {},
   "outputs": [],
   "source": [
    "indexNames = forbes[forbes['Industry'] == '1995'].index\n",
    "forbes.drop(indexNames , inplace=True)"
   ]
  },
  {
   "cell_type": "code",
   "execution_count": 22,
   "metadata": {},
   "outputs": [],
   "source": [
    "indexNames = forbes[forbes['Industry'] == '1998'].index\n",
    "forbes.drop(indexNames , inplace=True)"
   ]
  },
  {
   "cell_type": "code",
   "execution_count": 23,
   "metadata": {},
   "outputs": [],
   "source": [
    "indexNames = forbes[forbes['Industry'] == '1999'].index\n",
    "forbes.drop(indexNames , inplace=True)"
   ]
  },
  {
   "cell_type": "code",
   "execution_count": 24,
   "metadata": {},
   "outputs": [],
   "source": [
    "indexNames = forbes[forbes['Industry'] == '2000'].index\n",
    "forbes.drop(indexNames , inplace=True)"
   ]
  },
  {
   "cell_type": "code",
   "execution_count": 25,
   "metadata": {},
   "outputs": [],
   "source": [
    "indexNames = forbes[forbes['Industry'] == '2003'].index\n",
    "forbes.drop(indexNames , inplace=True)"
   ]
  },
  {
   "cell_type": "code",
   "execution_count": 26,
   "metadata": {},
   "outputs": [],
   "source": [
    "indexNames = forbes[forbes['Industry'] == '2006'].index\n",
    "forbes.drop(indexNames , inplace=True)"
   ]
  },
  {
   "cell_type": "code",
   "execution_count": 27,
   "metadata": {},
   "outputs": [],
   "source": [
    "indexNames = forbes[forbes['Industry'] == '2008'].index\n",
    "forbes.drop(indexNames , inplace=True)"
   ]
  },
  {
   "cell_type": "code",
   "execution_count": 28,
   "metadata": {},
   "outputs": [],
   "source": [
    "indexNames = forbes[forbes['Industry'] == '2010'].index\n",
    "forbes.drop(indexNames , inplace=True)"
   ]
  },
  {
   "cell_type": "code",
   "execution_count": 29,
   "metadata": {},
   "outputs": [],
   "source": [
    "indexNames = forbes[forbes['Industry'] == '2012'].index\n",
    "forbes.drop(indexNames , inplace=True)"
   ]
  },
  {
   "cell_type": "code",
   "execution_count": 30,
   "metadata": {},
   "outputs": [],
   "source": [
    "indexNames = forbes[forbes['Industry'] == '2018'].index\n",
    "forbes.drop(indexNames , inplace=True)"
   ]
  },
  {
   "cell_type": "code",
   "execution_count": null,
   "metadata": {},
   "outputs": [],
   "source": []
  },
  {
   "cell_type": "code",
   "execution_count": null,
   "metadata": {},
   "outputs": [],
   "source": []
  },
  {
   "cell_type": "code",
   "execution_count": 31,
   "metadata": {},
   "outputs": [],
   "source": [
    "#American companies"
   ]
  },
  {
   "cell_type": "code",
   "execution_count": 32,
   "metadata": {},
   "outputs": [],
   "source": [
    "forbes_US = forbes.loc[forbes['Country'] == 'United States']"
   ]
  },
  {
   "cell_type": "code",
   "execution_count": 33,
   "metadata": {},
   "outputs": [
    {
     "data": {
      "text/html": [
       "<div>\n",
       "<style scoped>\n",
       "    .dataframe tbody tr th:only-of-type {\n",
       "        vertical-align: middle;\n",
       "    }\n",
       "\n",
       "    .dataframe tbody tr th {\n",
       "        vertical-align: top;\n",
       "    }\n",
       "\n",
       "    .dataframe thead th {\n",
       "        text-align: right;\n",
       "    }\n",
       "</style>\n",
       "<table border=\"1\" class=\"dataframe\">\n",
       "  <thead>\n",
       "    <tr style=\"text-align: right;\">\n",
       "      <th></th>\n",
       "      <th>Rank</th>\n",
       "      <th>Company</th>\n",
       "      <th>Country</th>\n",
       "      <th>Industry</th>\n",
       "      <th>Assets</th>\n",
       "      <th>Sales</th>\n",
       "      <th>Profits</th>\n",
       "      <th>Market Capitalization</th>\n",
       "      <th>Employees</th>\n",
       "      <th>Founded</th>\n",
       "      <th>Chairman</th>\n",
       "    </tr>\n",
       "  </thead>\n",
       "  <tbody>\n",
       "    <tr>\n",
       "      <th>2</th>\n",
       "      <td>#3</td>\n",
       "      <td>JPMorgan Chase</td>\n",
       "      <td>United States</td>\n",
       "      <td>Major Banks</td>\n",
       "      <td>$2,609.8 B</td>\n",
       "      <td>$118.2 B</td>\n",
       "      <td>$26.5 B</td>\n",
       "      <td>$387.7 B</td>\n",
       "      <td>252,539</td>\n",
       "      <td>1968</td>\n",
       "      <td>Jamie Dimon</td>\n",
       "    </tr>\n",
       "    <tr>\n",
       "      <th>3</th>\n",
       "      <td>#4</td>\n",
       "      <td>Berkshire Hathaway</td>\n",
       "      <td>United States</td>\n",
       "      <td>Investment Services</td>\n",
       "      <td>$702.7 B</td>\n",
       "      <td>$235.2 B</td>\n",
       "      <td>$39.7 B</td>\n",
       "      <td>$491.9 B</td>\n",
       "      <td>377,000</td>\n",
       "      <td>1955</td>\n",
       "      <td>Warren Buffett</td>\n",
       "    </tr>\n",
       "    <tr>\n",
       "      <th>5</th>\n",
       "      <td>#6</td>\n",
       "      <td>Bank of America</td>\n",
       "      <td>United States</td>\n",
       "      <td>Major Banks</td>\n",
       "      <td>$2,328.5 B</td>\n",
       "      <td>$103 B</td>\n",
       "      <td>$20.3 B</td>\n",
       "      <td>$313.5 B</td>\n",
       "      <td>209,000</td>\n",
       "      <td>1904</td>\n",
       "      <td>Brian Moynihan</td>\n",
       "    </tr>\n",
       "    <tr>\n",
       "      <th>6</th>\n",
       "      <td>#7</td>\n",
       "      <td>Wells Fargo</td>\n",
       "      <td>United States</td>\n",
       "      <td>Major Banks</td>\n",
       "      <td>$1,915.4 B</td>\n",
       "      <td>$102.1 B</td>\n",
       "      <td>$21.7 B</td>\n",
       "      <td>$265.3 B</td>\n",
       "      <td>262,700</td>\n",
       "      <td>1852</td>\n",
       "      <td>Timothy Sloan</td>\n",
       "    </tr>\n",
       "    <tr>\n",
       "      <th>7</th>\n",
       "      <td>#8</td>\n",
       "      <td>Apple</td>\n",
       "      <td>United States</td>\n",
       "      <td>Computer Hardware</td>\n",
       "      <td>$367.5 B</td>\n",
       "      <td>$247.5 B</td>\n",
       "      <td>$53.3 B</td>\n",
       "      <td>$926.9 B</td>\n",
       "      <td>123,000</td>\n",
       "      <td>1976</td>\n",
       "      <td>Tim Cook</td>\n",
       "    </tr>\n",
       "  </tbody>\n",
       "</table>\n",
       "</div>"
      ],
      "text/plain": [
       "  Rank             Company        Country             Industry      Assets  \\\n",
       "2   #3      JPMorgan Chase  United States          Major Banks  $2,609.8 B   \n",
       "3   #4  Berkshire Hathaway  United States  Investment Services    $702.7 B   \n",
       "5   #6     Bank of America  United States          Major Banks  $2,328.5 B   \n",
       "6   #7         Wells Fargo  United States          Major Banks  $1,915.4 B   \n",
       "7   #8               Apple  United States    Computer Hardware    $367.5 B   \n",
       "\n",
       "      Sales  Profits Market Capitalization Employees Founded        Chairman  \n",
       "2  $118.2 B  $26.5 B              $387.7 B   252,539    1968     Jamie Dimon  \n",
       "3  $235.2 B  $39.7 B              $491.9 B   377,000    1955  Warren Buffett  \n",
       "5    $103 B  $20.3 B              $313.5 B   209,000    1904  Brian Moynihan  \n",
       "6  $102.1 B  $21.7 B              $265.3 B   262,700    1852   Timothy Sloan  \n",
       "7  $247.5 B  $53.3 B              $926.9 B   123,000    1976        Tim Cook  "
      ]
     },
     "execution_count": 33,
     "metadata": {},
     "output_type": "execute_result"
    }
   ],
   "source": [
    "forbes_US.head()"
   ]
  },
  {
   "cell_type": "code",
   "execution_count": null,
   "metadata": {},
   "outputs": [],
   "source": []
  },
  {
   "cell_type": "code",
   "execution_count": 37,
   "metadata": {},
   "outputs": [],
   "source": [
    "# barplot countries data"
   ]
  },
  {
   "cell_type": "code",
   "execution_count": 38,
   "metadata": {},
   "outputs": [],
   "source": [
    "forbes_CountryCount = forbes.groupby('Country', as_index = False).count()"
   ]
  },
  {
   "cell_type": "code",
   "execution_count": 39,
   "metadata": {},
   "outputs": [
    {
     "data": {
      "text/plain": [
       "['Country',\n",
       " 'Rank',\n",
       " 'Company',\n",
       " 'Industry',\n",
       " 'Assets',\n",
       " 'Sales',\n",
       " 'Profits',\n",
       " 'Market Capitalization',\n",
       " 'Employees',\n",
       " 'Founded',\n",
       " 'Chairman']"
      ]
     },
     "execution_count": 39,
     "metadata": {},
     "output_type": "execute_result"
    }
   ],
   "source": [
    "cols = forbes_CountryCount.columns.tolist()\n",
    "cols"
   ]
  },
  {
   "cell_type": "code",
   "execution_count": 40,
   "metadata": {},
   "outputs": [],
   "source": [
    "cols = ['Country', 'Rank']"
   ]
  },
  {
   "cell_type": "code",
   "execution_count": 41,
   "metadata": {},
   "outputs": [],
   "source": [
    "forbes_CountryCount = forbes_CountryCount[cols]"
   ]
  },
  {
   "cell_type": "code",
   "execution_count": 42,
   "metadata": {},
   "outputs": [],
   "source": [
    "forbes_CountryCount = forbes_CountryCount.rename(columns = {'Rank': 'Count'})"
   ]
  },
  {
   "cell_type": "code",
   "execution_count": 43,
   "metadata": {},
   "outputs": [],
   "source": [
    "forbes_CountryCount = forbes_CountryCount.sort_values(by = ['Count'], ascending = False)"
   ]
  },
  {
   "cell_type": "code",
   "execution_count": 44,
   "metadata": {},
   "outputs": [],
   "source": [
    "forbes_CountryCount = forbes_CountryCount.reset_index()"
   ]
  },
  {
   "cell_type": "code",
   "execution_count": 49,
   "metadata": {},
   "outputs": [],
   "source": [
    "forbes_CountryCount = forbes_CountryCount.drop('index', axis = 1)"
   ]
  },
  {
   "cell_type": "code",
   "execution_count": null,
   "metadata": {},
   "outputs": [],
   "source": [
    "forbes_CountryCount = forbes_CountryCount.iloc[:20]"
   ]
  },
  {
   "cell_type": "code",
   "execution_count": 62,
   "metadata": {},
   "outputs": [
    {
     "data": {
      "text/html": [
       "<div>\n",
       "<style scoped>\n",
       "    .dataframe tbody tr th:only-of-type {\n",
       "        vertical-align: middle;\n",
       "    }\n",
       "\n",
       "    .dataframe tbody tr th {\n",
       "        vertical-align: top;\n",
       "    }\n",
       "\n",
       "    .dataframe thead th {\n",
       "        text-align: right;\n",
       "    }\n",
       "</style>\n",
       "<table border=\"1\" class=\"dataframe\">\n",
       "  <thead>\n",
       "    <tr style=\"text-align: right;\">\n",
       "      <th></th>\n",
       "      <th>Country</th>\n",
       "      <th>Count</th>\n",
       "    </tr>\n",
       "  </thead>\n",
       "  <tbody>\n",
       "    <tr>\n",
       "      <th>0</th>\n",
       "      <td>United States</td>\n",
       "      <td>549</td>\n",
       "    </tr>\n",
       "    <tr>\n",
       "      <th>1</th>\n",
       "      <td>Japan</td>\n",
       "      <td>231</td>\n",
       "    </tr>\n",
       "    <tr>\n",
       "      <th>2</th>\n",
       "      <td>China</td>\n",
       "      <td>223</td>\n",
       "    </tr>\n",
       "    <tr>\n",
       "      <th>3</th>\n",
       "      <td>United Kingdom</td>\n",
       "      <td>86</td>\n",
       "    </tr>\n",
       "    <tr>\n",
       "      <th>4</th>\n",
       "      <td>South Korea</td>\n",
       "      <td>68</td>\n",
       "    </tr>\n",
       "    <tr>\n",
       "      <th>5</th>\n",
       "      <td>France</td>\n",
       "      <td>59</td>\n",
       "    </tr>\n",
       "    <tr>\n",
       "      <th>6</th>\n",
       "      <td>Hong Kong</td>\n",
       "      <td>59</td>\n",
       "    </tr>\n",
       "    <tr>\n",
       "      <th>7</th>\n",
       "      <td>India</td>\n",
       "      <td>56</td>\n",
       "    </tr>\n",
       "    <tr>\n",
       "      <th>8</th>\n",
       "      <td>Germany</td>\n",
       "      <td>54</td>\n",
       "    </tr>\n",
       "    <tr>\n",
       "      <th>9</th>\n",
       "      <td>Canada</td>\n",
       "      <td>50</td>\n",
       "    </tr>\n",
       "    <tr>\n",
       "      <th>10</th>\n",
       "      <td>Taiwan</td>\n",
       "      <td>47</td>\n",
       "    </tr>\n",
       "    <tr>\n",
       "      <th>11</th>\n",
       "      <td>Switzerland</td>\n",
       "      <td>40</td>\n",
       "    </tr>\n",
       "    <tr>\n",
       "      <th>12</th>\n",
       "      <td>Australia</td>\n",
       "      <td>38</td>\n",
       "    </tr>\n",
       "    <tr>\n",
       "      <th>13</th>\n",
       "      <td>Sweden</td>\n",
       "      <td>27</td>\n",
       "    </tr>\n",
       "    <tr>\n",
       "      <th>14</th>\n",
       "      <td>Russia</td>\n",
       "      <td>26</td>\n",
       "    </tr>\n",
       "    <tr>\n",
       "      <th>15</th>\n",
       "      <td>Italy</td>\n",
       "      <td>25</td>\n",
       "    </tr>\n",
       "    <tr>\n",
       "      <th>16</th>\n",
       "      <td>Spain</td>\n",
       "      <td>24</td>\n",
       "    </tr>\n",
       "    <tr>\n",
       "      <th>17</th>\n",
       "      <td>Netherlands</td>\n",
       "      <td>23</td>\n",
       "    </tr>\n",
       "    <tr>\n",
       "      <th>18</th>\n",
       "      <td>Brazil</td>\n",
       "      <td>20</td>\n",
       "    </tr>\n",
       "    <tr>\n",
       "      <th>19</th>\n",
       "      <td>Ireland</td>\n",
       "      <td>18</td>\n",
       "    </tr>\n",
       "  </tbody>\n",
       "</table>\n",
       "</div>"
      ],
      "text/plain": [
       "           Country  Count\n",
       "0    United States    549\n",
       "1            Japan    231\n",
       "2            China    223\n",
       "3   United Kingdom     86\n",
       "4      South Korea     68\n",
       "5           France     59\n",
       "6        Hong Kong     59\n",
       "7            India     56\n",
       "8          Germany     54\n",
       "9           Canada     50\n",
       "10          Taiwan     47\n",
       "11     Switzerland     40\n",
       "12       Australia     38\n",
       "13          Sweden     27\n",
       "14          Russia     26\n",
       "15           Italy     25\n",
       "16           Spain     24\n",
       "17     Netherlands     23\n",
       "18          Brazil     20\n",
       "19         Ireland     18"
      ]
     },
     "execution_count": 62,
     "metadata": {},
     "output_type": "execute_result"
    }
   ],
   "source": [
    "forbes_CountryCount"
   ]
  },
  {
   "cell_type": "code",
   "execution_count": 64,
   "metadata": {},
   "outputs": [
    {
     "data": {
      "image/png": "[encoded data removed]",
      "text/plain": [
       "<Figure size 432x288 with 1 Axes>"
      ]
     },
     "metadata": {
      "needs_background": "light"
     },
     "output_type": "display_data"
    }
   ],
   "source": [
    "country_bar = sns.barplot(x = 'Count', y = 'Country', data = forbes_CountryCount, orient = 'h')"
   ]
  },
  {
   "cell_type": "code",
   "execution_count": null,
   "metadata": {},
   "outputs": [],
   "source": []
  },
  {
   "cell_type": "code",
   "execution_count": 72,
   "metadata": {},
   "outputs": [],
   "source": [
    "# barplot year founded"
   ]
  },
  {
   "cell_type": "code",
   "execution_count": 103,
   "metadata": {},
   "outputs": [],
   "source": [
    "forbes_FoundedCount = forbes.groupby('Founded', as_index = False).count()"
   ]
  },
  {
   "cell_type": "code",
   "execution_count": 104,
   "metadata": {},
   "outputs": [
    {
     "data": {
      "text/plain": [
       "['Founded',\n",
       " 'Rank',\n",
       " 'Company',\n",
       " 'Country',\n",
       " 'Industry',\n",
       " 'Assets',\n",
       " 'Sales',\n",
       " 'Profits',\n",
       " 'Market Capitalization',\n",
       " 'Employees',\n",
       " 'Chairman']"
      ]
     },
     "execution_count": 104,
     "metadata": {},
     "output_type": "execute_result"
    }
   ],
   "source": [
    "cols = forbes_FoundedCount.columns.tolist()\n",
    "cols"
   ]
  },
  {
   "cell_type": "code",
   "execution_count": 105,
   "metadata": {},
   "outputs": [],
   "source": [
    "cols = ['Founded', 'Rank']"
   ]
  },
  {
   "cell_type": "code",
   "execution_count": 106,
   "metadata": {},
   "outputs": [],
   "source": [
    "forbes_FoundedCount = forbes_FoundedCount[cols]"
   ]
  },
  {
   "cell_type": "code",
   "execution_count": 107,
   "metadata": {},
   "outputs": [],
   "source": [
    "forbes_FoundedCount = forbes_FoundedCount.rename(columns = {'Rank': 'Count'})"
   ]
  },
  {
   "cell_type": "code",
   "execution_count": 108,
   "metadata": {},
   "outputs": [],
   "source": [
    "forbes_FoundedCount = forbes_FoundedCount.sort_values(by = ['Count'], ascending = False)"
   ]
  },
  {
   "cell_type": "code",
   "execution_count": 109,
   "metadata": {},
   "outputs": [],
   "source": [
    "forbes_FoundedCount = forbes_FoundedCount.iloc[:8]"
   ]
  },
  {
   "cell_type": "code",
   "execution_count": null,
   "metadata": {},
   "outputs": [],
   "source": [
    "forbes_FoundedCount = forbes_FoundedCount.reset_index()"
   ]
  },
  {
   "cell_type": "code",
   "execution_count": null,
   "metadata": {},
   "outputs": [],
   "source": [
    "forbes_FoundedCount = forbes_FoundedCount.drop('index', axis = 1)"
   ]
  },
  {
   "cell_type": "code",
   "execution_count": 164,
   "metadata": {},
   "outputs": [
    {
     "data": {
      "text/html": [
       "<div>\n",
       "<style scoped>\n",
       "    .dataframe tbody tr th:only-of-type {\n",
       "        vertical-align: middle;\n",
       "    }\n",
       "\n",
       "    .dataframe tbody tr th {\n",
       "        vertical-align: top;\n",
       "    }\n",
       "\n",
       "    .dataframe thead th {\n",
       "        text-align: right;\n",
       "    }\n",
       "</style>\n",
       "<table border=\"1\" class=\"dataframe\">\n",
       "  <thead>\n",
       "    <tr style=\"text-align: right;\">\n",
       "      <th></th>\n",
       "      <th>Founded</th>\n",
       "      <th>Count</th>\n",
       "    </tr>\n",
       "  </thead>\n",
       "  <tbody>\n",
       "    <tr>\n",
       "      <th>0</th>\n",
       "      <td>1997</td>\n",
       "      <td>43</td>\n",
       "    </tr>\n",
       "    <tr>\n",
       "      <th>1</th>\n",
       "      <td>1996</td>\n",
       "      <td>36</td>\n",
       "    </tr>\n",
       "    <tr>\n",
       "      <th>2</th>\n",
       "      <td>1995</td>\n",
       "      <td>33</td>\n",
       "    </tr>\n",
       "    <tr>\n",
       "      <th>3</th>\n",
       "      <td>1999</td>\n",
       "      <td>33</td>\n",
       "    </tr>\n",
       "    <tr>\n",
       "      <th>4</th>\n",
       "      <td>1994</td>\n",
       "      <td>30</td>\n",
       "    </tr>\n",
       "    <tr>\n",
       "      <th>5</th>\n",
       "      <td>2005</td>\n",
       "      <td>29</td>\n",
       "    </tr>\n",
       "    <tr>\n",
       "      <th>6</th>\n",
       "      <td>1993</td>\n",
       "      <td>27</td>\n",
       "    </tr>\n",
       "    <tr>\n",
       "      <th>7</th>\n",
       "      <td>2000</td>\n",
       "      <td>27</td>\n",
       "    </tr>\n",
       "  </tbody>\n",
       "</table>\n",
       "</div>"
      ],
      "text/plain": [
       "  Founded  Count\n",
       "0    1997     43\n",
       "1    1996     36\n",
       "2    1995     33\n",
       "3    1999     33\n",
       "4    1994     30\n",
       "5    2005     29\n",
       "6    1993     27\n",
       "7    2000     27"
      ]
     },
     "execution_count": 164,
     "metadata": {},
     "output_type": "execute_result"
    }
   ],
   "source": [
    "forbes_FoundedCount"
   ]
  },
  {
   "cell_type": "code",
   "execution_count": 111,
   "metadata": {},
   "outputs": [
    {
     "data": {
      "image/png": "[encoded data removed]",
      "text/plain": [
       "<Figure size 432x288 with 1 Axes>"
      ]
     },
     "metadata": {
      "needs_background": "light"
     },
     "output_type": "display_data"
    }
   ],
   "source": [
    "founded_bar = sns.barplot(x = 'Founded', y = 'Count', data = forbes_FoundedCount, palette = 'deep')"
   ]
  },
  {
   "cell_type": "code",
   "execution_count": null,
   "metadata": {},
   "outputs": [],
   "source": []
  },
  {
   "cell_type": "code",
   "execution_count": 112,
   "metadata": {},
   "outputs": [],
   "source": [
    "# barplot Industries"
   ]
  },
  {
   "cell_type": "code",
   "execution_count": 139,
   "metadata": {},
   "outputs": [],
   "source": [
    "forbes_IndustryCount = forbes.groupby('Industry', as_index = False).count()"
   ]
  },
  {
   "cell_type": "code",
   "execution_count": 140,
   "metadata": {},
   "outputs": [
    {
     "data": {
      "text/plain": [
       "['Industry',\n",
       " 'Rank',\n",
       " 'Company',\n",
       " 'Country',\n",
       " 'Assets',\n",
       " 'Sales',\n",
       " 'Profits',\n",
       " 'Market Capitalization',\n",
       " 'Employees',\n",
       " 'Founded',\n",
       " 'Chairman']"
      ]
     },
     "execution_count": 140,
     "metadata": {},
     "output_type": "execute_result"
    }
   ],
   "source": [
    "cols = forbes_IndustryCount.columns.tolist()\n",
    "cols"
   ]
  },
  {
   "cell_type": "code",
   "execution_count": 141,
   "metadata": {},
   "outputs": [],
   "source": [
    "cols = ['Industry', 'Rank']"
   ]
  },
  {
   "cell_type": "code",
   "execution_count": 142,
   "metadata": {},
   "outputs": [],
   "source": [
    "forbes_IndustryCount = forbes_IndustryCount[cols]"
   ]
  },
  {
   "cell_type": "code",
   "execution_count": 143,
   "metadata": {},
   "outputs": [],
   "source": [
    "forbes_IndustryCount = forbes_IndustryCount.rename(columns = {'Rank': 'Count'})"
   ]
  },
  {
   "cell_type": "code",
   "execution_count": 144,
   "metadata": {},
   "outputs": [],
   "source": [
    "forbes_IndustryCount = forbes_IndustryCount.sort_values(by = ['Count'], ascending = False)"
   ]
  },
  {
   "cell_type": "code",
   "execution_count": 146,
   "metadata": {},
   "outputs": [],
   "source": [
    "forbes_IndustryCount = forbes_IndustryCount.iloc[:15]"
   ]
  },
  {
   "cell_type": "code",
   "execution_count": null,
   "metadata": {},
   "outputs": [],
   "source": [
    "forbes_IndustryCount = forbes_IndustryCount.reset_index()"
   ]
  },
  {
   "cell_type": "code",
   "execution_count": 159,
   "metadata": {},
   "outputs": [],
   "source": [
    "forbes_IndustryCount = forbes_IndustryCount.drop('index', axis = 1)"
   ]
  },
  {
   "cell_type": "code",
   "execution_count": 160,
   "metadata": {},
   "outputs": [
    {
     "data": {
      "text/html": [
       "<div>\n",
       "<style scoped>\n",
       "    .dataframe tbody tr th:only-of-type {\n",
       "        vertical-align: middle;\n",
       "    }\n",
       "\n",
       "    .dataframe tbody tr th {\n",
       "        vertical-align: top;\n",
       "    }\n",
       "\n",
       "    .dataframe thead th {\n",
       "        text-align: right;\n",
       "    }\n",
       "</style>\n",
       "<table border=\"1\" class=\"dataframe\">\n",
       "  <thead>\n",
       "    <tr style=\"text-align: right;\">\n",
       "      <th></th>\n",
       "      <th>Industry</th>\n",
       "      <th>Count</th>\n",
       "    </tr>\n",
       "  </thead>\n",
       "  <tbody>\n",
       "    <tr>\n",
       "      <th>0</th>\n",
       "      <td>Regional Banks</td>\n",
       "      <td>244</td>\n",
       "    </tr>\n",
       "    <tr>\n",
       "      <th>1</th>\n",
       "      <td>Investment Services</td>\n",
       "      <td>89</td>\n",
       "    </tr>\n",
       "    <tr>\n",
       "      <th>2</th>\n",
       "      <td>Oil &amp; Gas Operations</td>\n",
       "      <td>83</td>\n",
       "    </tr>\n",
       "    <tr>\n",
       "      <th>3</th>\n",
       "      <td>Real Estate</td>\n",
       "      <td>83</td>\n",
       "    </tr>\n",
       "    <tr>\n",
       "      <th>4</th>\n",
       "      <td>Electric Utilities</td>\n",
       "      <td>79</td>\n",
       "    </tr>\n",
       "    <tr>\n",
       "      <th>5</th>\n",
       "      <td>Major Banks</td>\n",
       "      <td>63</td>\n",
       "    </tr>\n",
       "    <tr>\n",
       "      <th>6</th>\n",
       "      <td>Telecommunications services</td>\n",
       "      <td>55</td>\n",
       "    </tr>\n",
       "    <tr>\n",
       "      <th>7</th>\n",
       "      <td>Construction Services</td>\n",
       "      <td>54</td>\n",
       "    </tr>\n",
       "    <tr>\n",
       "      <th>8</th>\n",
       "      <td>Diversified Insurance</td>\n",
       "      <td>50</td>\n",
       "    </tr>\n",
       "    <tr>\n",
       "      <th>9</th>\n",
       "      <td>Food Processing</td>\n",
       "      <td>44</td>\n",
       "    </tr>\n",
       "    <tr>\n",
       "      <th>10</th>\n",
       "      <td>Business &amp; Personal Services</td>\n",
       "      <td>42</td>\n",
       "    </tr>\n",
       "    <tr>\n",
       "      <th>11</th>\n",
       "      <td>Diversified Metals &amp; Mining</td>\n",
       "      <td>41</td>\n",
       "    </tr>\n",
       "    <tr>\n",
       "      <th>12</th>\n",
       "      <td>Pharmaceuticals</td>\n",
       "      <td>41</td>\n",
       "    </tr>\n",
       "    <tr>\n",
       "      <th>13</th>\n",
       "      <td>Iron &amp; Steel</td>\n",
       "      <td>38</td>\n",
       "    </tr>\n",
       "    <tr>\n",
       "      <th>14</th>\n",
       "      <td>Life &amp; Health Insurance</td>\n",
       "      <td>37</td>\n",
       "    </tr>\n",
       "  </tbody>\n",
       "</table>\n",
       "</div>"
      ],
      "text/plain": [
       "                        Industry  Count\n",
       "0                 Regional Banks    244\n",
       "1            Investment Services     89\n",
       "2           Oil & Gas Operations     83\n",
       "3                    Real Estate     83\n",
       "4             Electric Utilities     79\n",
       "5                    Major Banks     63\n",
       "6    Telecommunications services     55\n",
       "7          Construction Services     54\n",
       "8          Diversified Insurance     50\n",
       "9                Food Processing     44\n",
       "10  Business & Personal Services     42\n",
       "11   Diversified Metals & Mining     41\n",
       "12               Pharmaceuticals     41\n",
       "13                  Iron & Steel     38\n",
       "14       Life & Health Insurance     37"
      ]
     },
     "execution_count": 160,
     "metadata": {},
     "output_type": "execute_result"
    }
   ],
   "source": [
    "forbes_IndustryCount"
   ]
  },
  {
   "cell_type": "code",
   "execution_count": 152,
   "metadata": {},
   "outputs": [
    {
     "data": {
      "image/png": "[encoded data removed]",
      "text/plain": [
       "<Figure size 432x288 with 1 Axes>"
      ]
     },
     "metadata": {
      "needs_background": "light"
     },
     "output_type": "display_data"
    }
   ],
   "source": [
    "industry_bar = sns.barplot(x = 'Count', y='Industry', data = forbes_IndustryCount, palette = 'dark', orient = 'h')"
   ]
  },
  {
   "cell_type": "code",
   "execution_count": null,
   "metadata": {},
   "outputs": [],
   "source": []
  },
  {
   "cell_type": "code",
   "execution_count": null,
   "metadata": {},
   "outputs": [],
   "source": []
  },
  {
   "cell_type": "code",
   "execution_count": null,
   "metadata": {},
   "outputs": [],
   "source": [
    "#American Companies"
   ]
  },
  {
   "cell_type": "code",
   "execution_count": null,
   "metadata": {},
   "outputs": [],
   "source": [
    "forbes_USIndustry = forbes"
   ]
  },
  {
   "cell_type": "code",
   "execution_count": null,
   "metadata": {},
   "outputs": [],
   "source": [
    "forbes_USIndustry = forbes.loc[forbes['Country'] == 'United States']"
   ]
  },
  {
   "cell_type": "code",
   "execution_count": null,
   "metadata": {},
   "outputs": [],
   "source": [
    "forbes_USIndustry = forbes_USIndustry.groupby(['Country', 'Industry']).count()"
   ]
  },
  {
   "cell_type": "code",
   "execution_count": null,
   "metadata": {},
   "outputs": [],
   "source": [
    "forbes_USIndustry.head()"
   ]
  },
  {
   "cell_type": "code",
   "execution_count": null,
   "metadata": {},
   "outputs": [],
   "source": [
    "cols = forbes_USIndustry.columns.tolist()"
   ]
  },
  {
   "cell_type": "code",
   "execution_count": null,
   "metadata": {},
   "outputs": [],
   "source": [
    "cols"
   ]
  },
  {
   "cell_type": "code",
   "execution_count": null,
   "metadata": {},
   "outputs": [],
   "source": [
    "cols = ['Rank']"
   ]
  },
  {
   "cell_type": "code",
   "execution_count": null,
   "metadata": {},
   "outputs": [],
   "source": [
    "forbes_USIndustry = forbes_USIndustry[cols]"
   ]
  },
  {
   "cell_type": "code",
   "execution_count": null,
   "metadata": {},
   "outputs": [],
   "source": [
    "forbes_USIndustry = forbes_USIndustry.rename(columns = {'Rank': 'Count'})"
   ]
  },
  {
   "cell_type": "code",
   "execution_count": null,
   "metadata": {},
   "outputs": [],
   "source": [
    "forbes_USIndustry = forbes_USIndustry.sort_values(by = 'Count', ascending = False)"
   ]
  },
  {
   "cell_type": "code",
   "execution_count": null,
   "metadata": {},
   "outputs": [],
   "source": [
    "forbes_USIndustry.iloc[:20]"
   ]
  },
  {
   "cell_type": "code",
   "execution_count": null,
   "metadata": {},
   "outputs": [],
   "source": []
  },
  {
   "cell_type": "code",
   "execution_count": null,
   "metadata": {},
   "outputs": [],
   "source": []
  },
  {
   "cell_type": "code",
   "execution_count": 66,
   "metadata": {},
   "outputs": [],
   "source": [
    "# Presentation"
   ]
  },
  {
   "cell_type": "code",
   "execution_count": 97,
   "metadata": {},
   "outputs": [
    {
     "data": {
      "text/html": [
       "<div>\n",
       "<style scoped>\n",
       "    .dataframe tbody tr th:only-of-type {\n",
       "        vertical-align: middle;\n",
       "    }\n",
       "\n",
       "    .dataframe tbody tr th {\n",
       "        vertical-align: top;\n",
       "    }\n",
       "\n",
       "    .dataframe thead th {\n",
       "        text-align: right;\n",
       "    }\n",
       "</style>\n",
       "<table border=\"1\" class=\"dataframe\">\n",
       "  <thead>\n",
       "    <tr style=\"text-align: right;\">\n",
       "      <th></th>\n",
       "      <th>Country</th>\n",
       "      <th>Count</th>\n",
       "    </tr>\n",
       "  </thead>\n",
       "  <tbody>\n",
       "    <tr>\n",
       "      <th>0</th>\n",
       "      <td>United States</td>\n",
       "      <td>549</td>\n",
       "    </tr>\n",
       "    <tr>\n",
       "      <th>1</th>\n",
       "      <td>Japan</td>\n",
       "      <td>231</td>\n",
       "    </tr>\n",
       "    <tr>\n",
       "      <th>2</th>\n",
       "      <td>China</td>\n",
       "      <td>223</td>\n",
       "    </tr>\n",
       "    <tr>\n",
       "      <th>3</th>\n",
       "      <td>United Kingdom</td>\n",
       "      <td>86</td>\n",
       "    </tr>\n",
       "    <tr>\n",
       "      <th>4</th>\n",
       "      <td>South Korea</td>\n",
       "      <td>68</td>\n",
       "    </tr>\n",
       "    <tr>\n",
       "      <th>5</th>\n",
       "      <td>France</td>\n",
       "      <td>59</td>\n",
       "    </tr>\n",
       "    <tr>\n",
       "      <th>6</th>\n",
       "      <td>Hong Kong</td>\n",
       "      <td>59</td>\n",
       "    </tr>\n",
       "    <tr>\n",
       "      <th>7</th>\n",
       "      <td>India</td>\n",
       "      <td>56</td>\n",
       "    </tr>\n",
       "    <tr>\n",
       "      <th>8</th>\n",
       "      <td>Germany</td>\n",
       "      <td>54</td>\n",
       "    </tr>\n",
       "    <tr>\n",
       "      <th>9</th>\n",
       "      <td>Canada</td>\n",
       "      <td>50</td>\n",
       "    </tr>\n",
       "    <tr>\n",
       "      <th>10</th>\n",
       "      <td>Taiwan</td>\n",
       "      <td>47</td>\n",
       "    </tr>\n",
       "    <tr>\n",
       "      <th>11</th>\n",
       "      <td>Switzerland</td>\n",
       "      <td>40</td>\n",
       "    </tr>\n",
       "    <tr>\n",
       "      <th>12</th>\n",
       "      <td>Australia</td>\n",
       "      <td>38</td>\n",
       "    </tr>\n",
       "    <tr>\n",
       "      <th>13</th>\n",
       "      <td>Sweden</td>\n",
       "      <td>27</td>\n",
       "    </tr>\n",
       "    <tr>\n",
       "      <th>14</th>\n",
       "      <td>Russia</td>\n",
       "      <td>26</td>\n",
       "    </tr>\n",
       "    <tr>\n",
       "      <th>15</th>\n",
       "      <td>Italy</td>\n",
       "      <td>25</td>\n",
       "    </tr>\n",
       "    <tr>\n",
       "      <th>16</th>\n",
       "      <td>Spain</td>\n",
       "      <td>24</td>\n",
       "    </tr>\n",
       "    <tr>\n",
       "      <th>17</th>\n",
       "      <td>Netherlands</td>\n",
       "      <td>23</td>\n",
       "    </tr>\n",
       "    <tr>\n",
       "      <th>18</th>\n",
       "      <td>Brazil</td>\n",
       "      <td>20</td>\n",
       "    </tr>\n",
       "    <tr>\n",
       "      <th>19</th>\n",
       "      <td>Ireland</td>\n",
       "      <td>18</td>\n",
       "    </tr>\n",
       "  </tbody>\n",
       "</table>\n",
       "</div>"
      ],
      "text/plain": [
       "           Country  Count\n",
       "0    United States    549\n",
       "1            Japan    231\n",
       "2            China    223\n",
       "3   United Kingdom     86\n",
       "4      South Korea     68\n",
       "5           France     59\n",
       "6        Hong Kong     59\n",
       "7            India     56\n",
       "8          Germany     54\n",
       "9           Canada     50\n",
       "10          Taiwan     47\n",
       "11     Switzerland     40\n",
       "12       Australia     38\n",
       "13          Sweden     27\n",
       "14          Russia     26\n",
       "15           Italy     25\n",
       "16           Spain     24\n",
       "17     Netherlands     23\n",
       "18          Brazil     20\n",
       "19         Ireland     18"
      ]
     },
     "execution_count": 97,
     "metadata": {},
     "output_type": "execute_result"
    }
   ],
   "source": [
    "forbes_CountryCount"
   ]
  },
  {
   "cell_type": "code",
   "execution_count": 114,
   "metadata": {},
   "outputs": [
    {
     "data": {
      "image/png": "[encoded data removed]",
      "text/plain": [
       "<Figure size 432x288 with 1 Axes>"
      ]
     },
     "metadata": {
      "needs_background": "light"
     },
     "output_type": "display_data"
    }
   ],
   "source": [
    "country_bar = sns.barplot(x = 'Count', y = 'Country', data = forbes_CountryCount, orient = 'h')"
   ]
  },
  {
   "cell_type": "code",
   "execution_count": 161,
   "metadata": {},
   "outputs": [
    {
     "data": {
      "text/html": [
       "<div>\n",
       "<style scoped>\n",
       "    .dataframe tbody tr th:only-of-type {\n",
       "        vertical-align: middle;\n",
       "    }\n",
       "\n",
       "    .dataframe tbody tr th {\n",
       "        vertical-align: top;\n",
       "    }\n",
       "\n",
       "    .dataframe thead th {\n",
       "        text-align: right;\n",
       "    }\n",
       "</style>\n",
       "<table border=\"1\" class=\"dataframe\">\n",
       "  <thead>\n",
       "    <tr style=\"text-align: right;\">\n",
       "      <th></th>\n",
       "      <th>Industry</th>\n",
       "      <th>Count</th>\n",
       "    </tr>\n",
       "  </thead>\n",
       "  <tbody>\n",
       "    <tr>\n",
       "      <th>0</th>\n",
       "      <td>Regional Banks</td>\n",
       "      <td>244</td>\n",
       "    </tr>\n",
       "    <tr>\n",
       "      <th>1</th>\n",
       "      <td>Investment Services</td>\n",
       "      <td>89</td>\n",
       "    </tr>\n",
       "    <tr>\n",
       "      <th>2</th>\n",
       "      <td>Oil &amp; Gas Operations</td>\n",
       "      <td>83</td>\n",
       "    </tr>\n",
       "    <tr>\n",
       "      <th>3</th>\n",
       "      <td>Real Estate</td>\n",
       "      <td>83</td>\n",
       "    </tr>\n",
       "    <tr>\n",
       "      <th>4</th>\n",
       "      <td>Electric Utilities</td>\n",
       "      <td>79</td>\n",
       "    </tr>\n",
       "    <tr>\n",
       "      <th>5</th>\n",
       "      <td>Major Banks</td>\n",
       "      <td>63</td>\n",
       "    </tr>\n",
       "    <tr>\n",
       "      <th>6</th>\n",
       "      <td>Telecommunications services</td>\n",
       "      <td>55</td>\n",
       "    </tr>\n",
       "    <tr>\n",
       "      <th>7</th>\n",
       "      <td>Construction Services</td>\n",
       "      <td>54</td>\n",
       "    </tr>\n",
       "    <tr>\n",
       "      <th>8</th>\n",
       "      <td>Diversified Insurance</td>\n",
       "      <td>50</td>\n",
       "    </tr>\n",
       "    <tr>\n",
       "      <th>9</th>\n",
       "      <td>Food Processing</td>\n",
       "      <td>44</td>\n",
       "    </tr>\n",
       "    <tr>\n",
       "      <th>10</th>\n",
       "      <td>Business &amp; Personal Services</td>\n",
       "      <td>42</td>\n",
       "    </tr>\n",
       "    <tr>\n",
       "      <th>11</th>\n",
       "      <td>Diversified Metals &amp; Mining</td>\n",
       "      <td>41</td>\n",
       "    </tr>\n",
       "    <tr>\n",
       "      <th>12</th>\n",
       "      <td>Pharmaceuticals</td>\n",
       "      <td>41</td>\n",
       "    </tr>\n",
       "    <tr>\n",
       "      <th>13</th>\n",
       "      <td>Iron &amp; Steel</td>\n",
       "      <td>38</td>\n",
       "    </tr>\n",
       "    <tr>\n",
       "      <th>14</th>\n",
       "      <td>Life &amp; Health Insurance</td>\n",
       "      <td>37</td>\n",
       "    </tr>\n",
       "  </tbody>\n",
       "</table>\n",
       "</div>"
      ],
      "text/plain": [
       "                        Industry  Count\n",
       "0                 Regional Banks    244\n",
       "1            Investment Services     89\n",
       "2           Oil & Gas Operations     83\n",
       "3                    Real Estate     83\n",
       "4             Electric Utilities     79\n",
       "5                    Major Banks     63\n",
       "6    Telecommunications services     55\n",
       "7          Construction Services     54\n",
       "8          Diversified Insurance     50\n",
       "9                Food Processing     44\n",
       "10  Business & Personal Services     42\n",
       "11   Diversified Metals & Mining     41\n",
       "12               Pharmaceuticals     41\n",
       "13                  Iron & Steel     38\n",
       "14       Life & Health Insurance     37"
      ]
     },
     "execution_count": 161,
     "metadata": {},
     "output_type": "execute_result"
    }
   ],
   "source": [
    "forbes_IndustryCount"
   ]
  },
  {
   "cell_type": "code",
   "execution_count": 154,
   "metadata": {},
   "outputs": [
    {
     "data": {
      "image/png": "[encoded data removed]",
      "text/plain": [
       "<Figure size 432x288 with 1 Axes>"
      ]
     },
     "metadata": {
      "needs_background": "light"
     },
     "output_type": "display_data"
    }
   ],
   "source": [
    "industry_bar = sns.barplot(x='Count', y='Industry', data = forbes_IndustryCount, palette = 'dark', orient = 'h')"
   ]
  },
  {
   "cell_type": "code",
   "execution_count": null,
   "metadata": {},
   "outputs": [],
   "source": []
  },
  {
   "cell_type": "code",
   "execution_count": 165,
   "metadata": {},
   "outputs": [
    {
     "data": {
      "text/html": [
       "<div>\n",
       "<style scoped>\n",
       "    .dataframe tbody tr th:only-of-type {\n",
       "        vertical-align: middle;\n",
       "    }\n",
       "\n",
       "    .dataframe tbody tr th {\n",
       "        vertical-align: top;\n",
       "    }\n",
       "\n",
       "    .dataframe thead th {\n",
       "        text-align: right;\n",
       "    }\n",
       "</style>\n",
       "<table border=\"1\" class=\"dataframe\">\n",
       "  <thead>\n",
       "    <tr style=\"text-align: right;\">\n",
       "      <th></th>\n",
       "      <th>Founded</th>\n",
       "      <th>Count</th>\n",
       "    </tr>\n",
       "  </thead>\n",
       "  <tbody>\n",
       "    <tr>\n",
       "      <th>0</th>\n",
       "      <td>1997</td>\n",
       "      <td>43</td>\n",
       "    </tr>\n",
       "    <tr>\n",
       "      <th>1</th>\n",
       "      <td>1996</td>\n",
       "      <td>36</td>\n",
       "    </tr>\n",
       "    <tr>\n",
       "      <th>2</th>\n",
       "      <td>1995</td>\n",
       "      <td>33</td>\n",
       "    </tr>\n",
       "    <tr>\n",
       "      <th>3</th>\n",
       "      <td>1999</td>\n",
       "      <td>33</td>\n",
       "    </tr>\n",
       "    <tr>\n",
       "      <th>4</th>\n",
       "      <td>1994</td>\n",
       "      <td>30</td>\n",
       "    </tr>\n",
       "    <tr>\n",
       "      <th>5</th>\n",
       "      <td>2005</td>\n",
       "      <td>29</td>\n",
       "    </tr>\n",
       "    <tr>\n",
       "      <th>6</th>\n",
       "      <td>1993</td>\n",
       "      <td>27</td>\n",
       "    </tr>\n",
       "    <tr>\n",
       "      <th>7</th>\n",
       "      <td>2000</td>\n",
       "      <td>27</td>\n",
       "    </tr>\n",
       "  </tbody>\n",
       "</table>\n",
       "</div>"
      ],
      "text/plain": [
       "  Founded  Count\n",
       "0    1997     43\n",
       "1    1996     36\n",
       "2    1995     33\n",
       "3    1999     33\n",
       "4    1994     30\n",
       "5    2005     29\n",
       "6    1993     27\n",
       "7    2000     27"
      ]
     },
     "execution_count": 165,
     "metadata": {},
     "output_type": "execute_result"
    }
   ],
   "source": [
    "forbes_FoundedCount"
   ]
  },
  {
   "cell_type": "code",
   "execution_count": 100,
   "metadata": {},
   "outputs": [
    {
     "data": {
      "image/png": "[encoded data removed]",
      "text/plain": [
       "<Figure size 432x288 with 1 Axes>"
      ]
     },
     "metadata": {
      "needs_background": "light"
     },
     "output_type": "display_data"
    }
   ],
   "source": [
    "founded_bar = sns.barplot(x = 'Founded', y = 'Count', data = forbes_FoundedCount, palette = 'deep')"
   ]
  },
  {
   "cell_type": "code",
   "execution_count": null,
   "metadata": {},
   "outputs": [],
   "source": []
  },
  {
   "cell_type": "code",
   "execution_count": null,
   "metadata": {},
   "outputs": [],
   "source": []
  },
  {
   "cell_type": "code",
   "execution_count": null,
   "metadata": {},
   "outputs": [],
   "source": []
  },
  {
   "cell_type": "code",
   "execution_count": null,
   "metadata": {},
   "outputs": [],
   "source": []
  },
  {
   "cell_type": "code",
   "execution_count": null,
   "metadata": {},
   "outputs": [],
   "source": []
  }
 ],
 "metadata": {
  "kernelspec": {
   "display_name": "Python 3",
   "language": "python",
   "name": "python3"
  },
  "language_info": {
   "codemirror_mode": {
    "name": "ipython",
    "version": 3
   },
   "file_extension": ".py",
   "mimetype": "text/x-python",
   "name": "python",
   "nbconvert_exporter": "python",
   "pygments_lexer": "ipython3",
   "version": "3.7.3"
  }
 },
 "nbformat": 4,
 "nbformat_minor": 2
}
